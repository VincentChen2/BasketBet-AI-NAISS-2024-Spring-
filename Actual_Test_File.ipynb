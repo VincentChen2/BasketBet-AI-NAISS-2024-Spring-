{
  "nbformat": 4,
  "nbformat_minor": 0,
  "metadata": {
    "colab": {
      "provenance": [],
      "authorship_tag": "ABX9TyNHyB4kCW2jDJ1kMgzqm4Cb"
    },
    "kernelspec": {
      "name": "python3",
      "display_name": "Python 3"
    },
    "language_info": {
      "name": "python"
    }
  },
  "cells": [
    {
      "cell_type": "code",
      "execution_count": 1,
      "metadata": {
        "colab": {
          "base_uri": "https://localhost:8080/"
        },
        "id": "5wg7ZmPd8YX3",
        "outputId": "75d7f749-9cb5-4b0f-e958-55839efe1497"
      },
      "outputs": [
        {
          "output_type": "stream",
          "name": "stdout",
          "text": [
            "Requirement already satisfied: nba_api in /usr/local/lib/python3.10/dist-packages (1.4.1)\n",
            "Requirement already satisfied: certifi<2024.0.0,>=2023.7.22 in /usr/local/lib/python3.10/dist-packages (from nba_api) (2023.11.17)\n",
            "Requirement already satisfied: numpy<2.0.0,>=1.22.2 in /usr/local/lib/python3.10/dist-packages (from nba_api) (1.25.2)\n",
            "Requirement already satisfied: requests<3.0,>=2.31 in /usr/local/lib/python3.10/dist-packages (from nba_api) (2.31.0)\n",
            "Requirement already satisfied: charset-normalizer<4,>=2 in /usr/local/lib/python3.10/dist-packages (from requests<3.0,>=2.31->nba_api) (3.3.2)\n",
            "Requirement already satisfied: idna<4,>=2.5 in /usr/local/lib/python3.10/dist-packages (from requests<3.0,>=2.31->nba_api) (3.6)\n",
            "Requirement already satisfied: urllib3<3,>=1.21.1 in /usr/local/lib/python3.10/dist-packages (from requests<3.0,>=2.31->nba_api) (2.0.7)\n"
          ]
        }
      ],
      "source": [
        "!pip install nba_api"
      ]
    },
    {
      "cell_type": "code",
      "source": [
        "from nba_api.stats.static import players\n",
        "from nba_api.stats.endpoints import playergamelog, commonplayerinfo\n",
        "import pandas as pd"
      ],
      "metadata": {
        "id": "2fWwkIwh8hHD"
      },
      "execution_count": 3,
      "outputs": []
    },
    {
      "cell_type": "code",
      "source": [
        "def get_player_id(player_name):\n",
        "    for p in players.get_players():\n",
        "        if p['full_name'].lower() == player_name.lower():\n",
        "            return p['id']\n",
        "\n",
        "    return None\n",
        "\n",
        "get_player_id('stephen curry')"
      ],
      "metadata": {
        "id": "DLg9p8te839L"
      },
      "execution_count": 17,
      "outputs": []
    }
  ]
}